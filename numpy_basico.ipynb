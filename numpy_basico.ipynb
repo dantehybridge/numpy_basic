{
 "cells": [
  {
   "cell_type": "code",
   "execution_count": 5,
   "id": "12a02467-f4cf-452c-81d0-6420b7c7629b",
   "metadata": {},
   "outputs": [],
   "source": [
    "import numpy as np"
   ]
  },
  {
   "cell_type": "code",
   "execution_count": 6,
   "id": "e5eb16de-6bd8-47c9-aa02-fd39ce7b4a7f",
   "metadata": {},
   "outputs": [
    {
     "data": {
      "text/plain": [
       "numpy.ndarray"
      ]
     },
     "execution_count": 6,
     "metadata": {},
     "output_type": "execute_result"
    }
   ],
   "source": [
    "lista = [0,1,2,3,4]\n",
    "array_1d = np.array(lista)\n",
    "\n",
    "#Checamos el tipo de dato de array_id\n",
    "type(array_1d)"
   ]
  },
  {
   "cell_type": "code",
   "execution_count": 7,
   "id": "530fa91b-f4f9-4464-aa9e-c02388da84cf",
   "metadata": {},
   "outputs": [
    {
     "data": {
      "text/plain": [
       "float"
      ]
     },
     "execution_count": 7,
     "metadata": {},
     "output_type": "execute_result"
    }
   ],
   "source": [
    "type(1.2)"
   ]
  },
  {
   "cell_type": "code",
   "execution_count": 8,
   "id": "3de49e53-5c34-48ea-bcf0-cf42ac5e1b49",
   "metadata": {},
   "outputs": [
    {
     "data": {
      "text/plain": [
       "array([0, 1, 2, 3, 4])"
      ]
     },
     "execution_count": 8,
     "metadata": {},
     "output_type": "execute_result"
    }
   ],
   "source": [
    "array_1d"
   ]
  },
  {
   "cell_type": "code",
   "execution_count": 9,
   "id": "1fc60010-d5bd-43cd-a3ed-1675abf52268",
   "metadata": {},
   "outputs": [
    {
     "data": {
      "text/plain": [
       "[0, 1, 2, 3, 4]"
      ]
     },
     "execution_count": 9,
     "metadata": {},
     "output_type": "execute_result"
    }
   ],
   "source": [
    "lista"
   ]
  },
  {
   "cell_type": "code",
   "execution_count": 10,
   "id": "ac5bc8bb-9c1a-4771-bd17-58f593ed0e5c",
   "metadata": {},
   "outputs": [
    {
     "data": {
      "text/plain": [
       "array([2, 3, 4, 5, 6])"
      ]
     },
     "execution_count": 10,
     "metadata": {},
     "output_type": "execute_result"
    }
   ],
   "source": [
    "array_1d + 2"
   ]
  },
  {
   "cell_type": "code",
   "execution_count": 11,
   "id": "42ec1ba5-1cfa-4cc5-95f6-29243ece0f5a",
   "metadata": {},
   "outputs": [
    {
     "name": "stdout",
     "output_type": "stream",
     "text": [
      "[[58, 64], [139, 154]]\n"
     ]
    }
   ],
   "source": [
    "def multiplicar_matrices(A, B):\n",
    "    # obtener dimensiones\n",
    "    filas_A = len(A)\n",
    "    cols_A = len(A[0])\n",
    "    filas_B = len(B)\n",
    "    cols_B = len(B[0])\n",
    "\n",
    "    # checar si se pueden multiplicar A y B\n",
    "    if cols_A != filas_B:\n",
    "        raise ValueError(\"El número de columnas de A debe ser igual al número de filas de B\")\n",
    "\n",
    "    # Inicializar una matriz vacía con ceros\n",
    "    matriz_resultado = []\n",
    "    for _ in range(filas_A):\n",
    "        fila = []\n",
    "        for _ in range(cols_B):\n",
    "            fila.append(0)\n",
    "        matriz_resultado.append(fila)\n",
    "\n",
    "    # realizar multiplicación\n",
    "    for i in range(filas_A):\n",
    "        for j in range(cols_B):\n",
    "            for k in range(cols_A):\n",
    "                matriz_resultado[i][j] += A[i][k] * B[k][j]\n",
    "\n",
    "    return matriz_resultado\n",
    "\n",
    "# Ejemplo\n",
    "A = [\n",
    "    [1, 2, 3],\n",
    "    [4, 5, 6]\n",
    "]\n",
    "B = [\n",
    "    [7, 8],\n",
    "    [9, 10],\n",
    "    [11, 12]\n",
    "]\n",
    "C = multiplicar_matrices(A, B)\n",
    "print(C)"
   ]
  },
  {
   "cell_type": "code",
   "execution_count": 12,
   "id": "18543877-d2ea-4b36-b8ba-5f6fcf822b01",
   "metadata": {},
   "outputs": [
    {
     "name": "stdout",
     "output_type": "stream",
     "text": [
      "[6, 4, 8, 6, 6]\n",
      "[5, 8, 9, 5, 6]\n",
      "[8, 6, 7, 8, 8]\n",
      "[1, 2, 2, 1, 7]\n",
      "[7, 9, 7, 5, 7]\n"
     ]
    }
   ],
   "source": [
    "import random\n",
    "\n",
    "def generar_matriz_aleatoria(N):\n",
    "    matriz = []\n",
    "    for i in range(N):\n",
    "        fila = []\n",
    "        for j in range(N):\n",
    "            fila.append(random.randint(1, 9))\n",
    "        matriz.append(fila)\n",
    "    return matriz\n",
    "\n",
    "\n",
    "N = 5\n",
    "matriz_aleatoria = generar_matriz_aleatoria(N)\n",
    "for fila in matriz_aleatoria:\n",
    "    print(fila)"
   ]
  },
  {
   "cell_type": "code",
   "execution_count": 14,
   "id": "ba3a79f5-eb9f-432b-98c5-bc5cdb45f541",
   "metadata": {},
   "outputs": [
    {
     "name": "stdout",
     "output_type": "stream",
     "text": [
      " 1  2  3\n",
      " 4  5  6\n",
      " 7  8  9\n"
     ]
    }
   ],
   "source": [
    "def imprimir_matriz(matriz):\n",
    "    for fila in matriz:\n",
    "        fila_formateada = ' '.join(f'{elemento:2}' for elemento in fila)\n",
    "        print(fila_formateada)\n",
    "\n",
    "import numpy as np\n",
    "m = np.array([[1,2,3],[4,5,6],[7,8,9]])\n",
    "\n",
    "imprimir_matriz(m)"
   ]
  },
  {
   "cell_type": "code",
   "execution_count": 15,
   "id": "a7de2bf7-4804-44e7-8263-10047ece6315",
   "metadata": {},
   "outputs": [
    {
     "name": "stdout",
     "output_type": "stream",
     "text": [
      "Matríz de 5x5:\n",
      " 1  7  1  6  1\n",
      " 6  1  9  7  3\n",
      " 8  9  1  4  3\n",
      " 3  7  1  5  1\n",
      " 5  1  7  6  6\n",
      "====================\n",
      "Matríz de 10x10:\n",
      " 2  4  9  9  3  4  6  5  2  6\n",
      " 8  6  7  8  7  2  4  1  2  7\n",
      " 6  2  3  3  1  1  5  6  8  8\n",
      " 5  1  4  6  1  3  4  2  8  7\n",
      " 9  9  5  2  9  1  8  4  2  8\n",
      " 7  6  3  3  5  1  2  2  8  8\n",
      " 9  8  2  2  7  5  8  6  4  1\n",
      " 9  5  2  2  1  9  8  5  2  8\n",
      " 5  3  2  6  1  4  2  8  4  2\n",
      " 5  7  7  1  5  9  9  7  8  8\n",
      "====================\n",
      "Matríz de 20x20:\n",
      " 8  4  2  8  3  9  2  2  5  8  8  7  8  4  8  1  3  1  6  3\n",
      " 4  7  3  6  2  5  4  2  3  9  5  6  1  1  2  3  9  4  5  8\n",
      " 6  4  4  4  6  5  3  1  3  9  1  7  3  2  1  1  7  2  6  5\n",
      " 2  1  2  9  5  3  9  6  3  2  9  5  4  4  3  5  2  8  3  2\n",
      " 7  1  9  2  9  3  1  6  5  4  9  3  2  7  7  2  4  5  5  6\n",
      " 5  9  9  5  1  7  9  5  8  6  2  7  9  5  8  5  4  1  7  9\n",
      " 3  6  3  8  4  7  7  4  9  4  6  8  4  6  3  3  5  8  9  1\n",
      " 3  4  7  7  6  2  3  2  8  2  5  3  4  6  1  7  4  8  4  4\n",
      " 8  8  9  1  9  7  1  4  9  5  8  1  2  1  4  1  2  6  3  5\n",
      " 7  2  4  1  2  1  2  3  4  6  9  9  6  9  9  2  7  1  4  4\n",
      " 2  7  3  1  9  7  2  2  9  3  2  5  8  4  2  1  8  7  4  9\n",
      " 1  5  9  3  8  7  7  3  2  8  4  4  3  7  8  6  6  7  2  9\n",
      " 7  3  5  2  8  9  6  7  4  5  9  9  4  1  2  4  8  9  1  6\n",
      " 3  8  2  2  3  8  7  3  4  8  4  9  9  1  4  6  6  1  5  2\n",
      " 8  8  5  8  7  7  3  1  3  3  4  6  6  5  8  3  3  1  2  2\n",
      " 6  9  8  1  8  3  2  4  6  4  9  6  3  4  8  4  5  2  8  9\n",
      " 8  5  6  4  9  1  4  6  8  2  7  3  9  7  9  6  3  7  3  1\n",
      " 7  2  4  8  8  8  7  8  7  4  4  5  8  9  1  5  1  1  7  1\n",
      " 6  5  9  6  8  4  6  8  7  7  5  9  3  6  2  8  2  8  8  3\n",
      " 8  6  9  9  6  5  9  8  7  6  6  3  2  4  6  6  1  9  5  8\n",
      "====================\n"
     ]
    }
   ],
   "source": [
    "print(\"Matríz de 5x5:\")\n",
    "m_5 = generar_matriz_aleatoria(5)\n",
    "imprimir_matriz(m_5)\n",
    "print(\"====================\")\n",
    "print(\"Matríz de 10x10:\")\n",
    "m_10 = generar_matriz_aleatoria(10)\n",
    "imprimir_matriz(m_10)\n",
    "print(\"====================\")\n",
    "print(\"Matríz de 20x20:\")\n",
    "m_20 = generar_matriz_aleatoria(20)\n",
    "imprimir_matriz(m_20)\n",
    "print(\"====================\")\n",
    "m_100 = generar_matriz_aleatoria(100)"
   ]
  },
  {
   "cell_type": "code",
   "execution_count": 16,
   "id": "1b84d870-dfbf-45f7-9f87-92a9c541bac0",
   "metadata": {},
   "outputs": [],
   "source": [
    "import time"
   ]
  },
  {
   "cell_type": "code",
   "execution_count": 17,
   "id": "a526731d-2175-48c1-a5c1-c7e1a5fc5c30",
   "metadata": {},
   "outputs": [
    {
     "name": "stdout",
     "output_type": "stream",
     "text": [
      "Multiplicar dos matrices de 5x5 tardó 0.00012087821960449219 seg.\n"
     ]
    }
   ],
   "source": [
    "start = time.time()\n",
    "multiplicar_matrices(m_5, m_5)\n",
    "end = time.time()\n",
    "tiempo = end - start\n",
    "print(f\"Multiplicar dos matrices de 5x5 tardó {tiempo} seg.\")"
   ]
  },
  {
   "cell_type": "code",
   "execution_count": 18,
   "id": "c2d6a273-7998-488c-a743-dffaf806c076",
   "metadata": {},
   "outputs": [
    {
     "name": "stdout",
     "output_type": "stream",
     "text": [
      "Multiplicar dos matrices de 10x10 tardó 0.000148773193359375 seg.\n"
     ]
    }
   ],
   "source": [
    "start = time.time()\n",
    "multiplicar_matrices(m_10, m_10)\n",
    "end = time.time()\n",
    "tiempo = end - start\n",
    "print(f\"Multiplicar dos matrices de 10x10 tardó {tiempo} seg.\")"
   ]
  },
  {
   "cell_type": "code",
   "execution_count": 20,
   "id": "f1be023a-8b26-4008-be7c-fd4d8db3ea8a",
   "metadata": {},
   "outputs": [
    {
     "name": "stdout",
     "output_type": "stream",
     "text": [
      "Multiplicar dos matrices de 1000x1000 tardó 0.0472 seg.\n"
     ]
    }
   ],
   "source": [
    "import numpy as np\n",
    "import time\n",
    "\n",
    "m_1000 = np.random.rand(1000, 1000)\n",
    "\n",
    "def multiplicar_matrices(a, b):\n",
    "    return a @ b  # o np.dot(a, b)\n",
    "\n",
    "start = time.time()\n",
    "multiplicar_matrices(m_1000, m_1000)\n",
    "def generar_matriz_aleatoria_numpy(N):\n",
    "    return np.random.randint(1, 10, size=(N, N))end = time.time()\n",
    "\n",
    "tiempo = end - start\n",
    "print(f\"Multiplicar dos matrices de 1000x1000 tardó {tiempo:.4f} seg.\")"
   ]
  },
  {
   "cell_type": "code",
   "execution_count": 21,
   "id": "a7c3a947-6138-46a4-bb52-dee873329a99",
   "metadata": {},
   "outputs": [],
   "source": [
    "def generar_matriz_aleatoria_numpy(N):\n",
    "    return np.random.randint(1, 10, size=(N, N))"
   ]
  },
  {
   "cell_type": "code",
   "execution_count": 22,
   "id": "7eea2ef4-fd19-4c2a-abf1-002d1390222d",
   "metadata": {},
   "outputs": [
    {
     "name": "stdout",
     "output_type": "stream",
     "text": [
      "0.848379217887598 0.6604561302666238 0.8768663254172464 0.6339224163105782 0.0728093310248148\n",
      "0.23346996191232305 0.03632896207820768 0.14678791891274323 0.06160141161211696 0.7395701190890122\n",
      "0.11937832170155405 0.41281010813962504 0.08754561409899841 0.07148560971207862 0.9414059817479226\n",
      "0.9935184463250265 0.9442886918581715 0.21301629727330718 0.6545348790012238 0.26148458309566613\n",
      "0.8860253253533632 0.24955692431911802 0.0896933794233733 0.5687118861333343 0.4088801266850558\n"
     ]
    }
   ],
   "source": [
    "imprimir_matriz(m_1000[:5, :5])"
   ]
  },
  {
   "cell_type": "code",
   "execution_count": 23,
   "id": "723f99fa-e8e4-4dcb-83e9-6cffdf2e57b2",
   "metadata": {},
   "outputs": [
    {
     "name": "stdout",
     "output_type": "stream",
     "text": [
      "Multiplicar dos matrices de 1000x1000 con Numpy tardó 0.05575060844421387 seg.\n"
     ]
    }
   ],
   "source": [
    "start = time.time()\n",
    "np.dot(m_1000, m_1000)\n",
    "\n",
    "end = time.time()\n",
    "tiempo = end - start\n",
    "print(f\"Multiplicar dos matrices de 1000x1000 con Numpy tardó {tiempo} seg.\")"
   ]
  },
  {
   "cell_type": "code",
   "execution_count": 24,
   "id": "52f3105c-2765-4df4-814f-370f308a63d8",
   "metadata": {},
   "outputs": [
    {
     "data": {
      "text/plain": [
       "array([[0, 1, 2],\n",
       "       [3, 4, 5],\n",
       "       [6, 7, 8]])"
      ]
     },
     "execution_count": 24,
     "metadata": {},
     "output_type": "execute_result"
    }
   ],
   "source": [
    "list2 = [[0,1,2], [3,4,5], [6,7,8]]\n",
    "arr2d = np.array(list2)\n",
    "arr2d"
   ]
  },
  {
   "cell_type": "code",
   "execution_count": 25,
   "id": "d53aa438-9696-4bf7-8094-61f0f761358d",
   "metadata": {},
   "outputs": [
    {
     "data": {
      "text/plain": [
       "array([[0., 1., 2.],\n",
       "       [3., 4., 5.],\n",
       "       [6., 7., 8.]])"
      ]
     },
     "execution_count": 25,
     "metadata": {},
     "output_type": "execute_result"
    }
   ],
   "source": [
    "arr2d_f = np.array(list2, dtype='float')\n",
    "arr2d_f"
   ]
  },
  {
   "cell_type": "code",
   "execution_count": 26,
   "id": "63bb5964-7510-4aec-a780-98951267d749",
   "metadata": {},
   "outputs": [
    {
     "data": {
      "text/plain": [
       "array([[0, 1, 2],\n",
       "       [3, 4, 5],\n",
       "       [6, 7, 8]])"
      ]
     },
     "execution_count": 26,
     "metadata": {},
     "output_type": "execute_result"
    }
   ],
   "source": [
    "arr2d_f.astype('int')"
   ]
  },
  {
   "cell_type": "code",
   "execution_count": 27,
   "id": "2a2ff021-079d-4d15-b28b-adad78f0e5d3",
   "metadata": {},
   "outputs": [
    {
     "data": {
      "text/plain": [
       "array([['0', '1', '2'],\n",
       "       ['3', '4', '5'],\n",
       "       ['6', '7', '8']], dtype='<U21')"
      ]
     },
     "execution_count": 27,
     "metadata": {},
     "output_type": "execute_result"
    }
   ],
   "source": [
    "arr2d_f.astype('int').astype('str')"
   ]
  },
  {
   "cell_type": "code",
   "execution_count": 28,
   "id": "ad322810-512c-42d3-80dc-c33ba0f5db60",
   "metadata": {},
   "outputs": [
    {
     "data": {
      "text/plain": [
       "array([ True, False,  True,  True,  True,  True, False])"
      ]
     },
     "execution_count": 28,
     "metadata": {},
     "output_type": "execute_result"
    }
   ],
   "source": [
    "arr2d_b = np.array([1, 0, 10, 11, 12, -1, 0], dtype='bool')\n",
    "arr2d_b"
   ]
  },
  {
   "cell_type": "code",
   "execution_count": 29,
   "id": "eed87a05-8de2-4762-b16d-b921ff60e6cc",
   "metadata": {},
   "outputs": [
    {
     "data": {
      "text/plain": [
       "array([1, 'a'], dtype=object)"
      ]
     },
     "execution_count": 29,
     "metadata": {},
     "output_type": "execute_result"
    }
   ],
   "source": [
    "arr1d_obj = np.array([1, 'a'], dtype='object')\n",
    "arr1d_obj"
   ]
  },
  {
   "cell_type": "code",
   "execution_count": 30,
   "id": "e69181b2-25fd-4a00-a8d1-3e9de724609b",
   "metadata": {},
   "outputs": [
    {
     "data": {
      "text/plain": [
       "[1, 'a']"
      ]
     },
     "execution_count": 30,
     "metadata": {},
     "output_type": "execute_result"
    }
   ],
   "source": [
    "lista = arr1d_obj.tolist()\n",
    "lista"
   ]
  },
  {
   "cell_type": "code",
   "execution_count": 32,
   "id": "46ebf0d0-f68e-4ffe-8f90-11d68ea7e6f6",
   "metadata": {},
   "outputs": [
    {
     "data": {
      "text/plain": [
       "[1, 'a']"
      ]
     },
     "execution_count": 32,
     "metadata": {},
     "output_type": "execute_result"
    }
   ],
   "source": [
    "list(arr1d_obj)"
   ]
  },
  {
   "cell_type": "code",
   "execution_count": 33,
   "id": "4d14c2b3-2e76-44a2-9e7a-ce1c1b4ca734",
   "metadata": {},
   "outputs": [
    {
     "data": {
      "text/plain": [
       "array([[1., 2., 3., 4.],\n",
       "       [3., 4., 5., 6.],\n",
       "       [5., 6., 7., 8.]])"
      ]
     },
     "execution_count": 33,
     "metadata": {},
     "output_type": "execute_result"
    }
   ],
   "source": [
    "list2 = [[1, 2, 3, 4],[3, 4, 5, 6], [5, 6, 7, 8]]\n",
    "arr2 = np.array(list2, dtype='float')\n",
    "arr2"
   ]
  },
  {
   "cell_type": "code",
   "execution_count": 34,
   "id": "6b1364a8-7e0d-4e24-8881-b331b7325cfc",
   "metadata": {},
   "outputs": [
    {
     "name": "stdout",
     "output_type": "stream",
     "text": [
      "Shape:  (3, 4)\n",
      "Datatype:  float64\n",
      "Size:  12\n",
      "Num Dimensions:  2\n"
     ]
    }
   ],
   "source": [
    "# shape\n",
    "print('Shape: ', arr2.shape)\n",
    "\n",
    "# dtype\n",
    "print('Datatype: ', arr2.dtype)\n",
    "\n",
    "# size\n",
    "print('Size: ', arr2.size)\n",
    "\n",
    "# ndim\n",
    "print('Num Dimensions: ', arr2.ndim)"
   ]
  },
  {
   "cell_type": "code",
   "execution_count": 36,
   "id": "56caa37f-1d28-4178-80c6-680a82701ff4",
   "metadata": {},
   "outputs": [
    {
     "data": {
      "text/plain": [
       "array([[1., 2., 3., 4.],\n",
       "       [3., 4., 5., 6.],\n",
       "       [5., 6., 7., 8.]])"
      ]
     },
     "execution_count": 36,
     "metadata": {},
     "output_type": "execute_result"
    }
   ],
   "source": [
    "arr2"
   ]
  },
  {
   "cell_type": "code",
   "execution_count": 37,
   "id": "798decb5-d321-408b-8428-e5b4c6b961f3",
   "metadata": {},
   "outputs": [
    {
     "data": {
      "text/plain": [
       "np.float64(4.0)"
      ]
     },
     "execution_count": 37,
     "metadata": {},
     "output_type": "execute_result"
    }
   ],
   "source": [
    "arr2[1, 1]"
   ]
  },
  {
   "cell_type": "code",
   "execution_count": 38,
   "id": "295669b2-e887-4caf-b75c-a340e81f1602",
   "metadata": {},
   "outputs": [
    {
     "data": {
      "text/plain": [
       "array([[1., 2., 3.],\n",
       "       [3., 4., 5.],\n",
       "       [5., 6., 7.]])"
      ]
     },
     "execution_count": 38,
     "metadata": {},
     "output_type": "execute_result"
    }
   ],
   "source": [
    "arr2[:3, :3]"
   ]
  },
  {
   "cell_type": "code",
   "execution_count": 39,
   "id": "db94e329-31ef-4e99-bfeb-05aabad456a5",
   "metadata": {},
   "outputs": [
    {
     "data": {
      "text/plain": [
       "array([[1., 2., 3., 4.],\n",
       "       [3., 4., 5., 6.],\n",
       "       [5., 6., 7., 8.]])"
      ]
     },
     "execution_count": 39,
     "metadata": {},
     "output_type": "execute_result"
    }
   ],
   "source": [
    "arr2"
   ]
  },
  {
   "cell_type": "code",
   "execution_count": 40,
   "id": "276df55d-b9b6-4e3c-9aaa-0e4116b676c6",
   "metadata": {},
   "outputs": [
    {
     "data": {
      "text/plain": [
       "array([[False, False, False, False],\n",
       "       [False, False,  True,  True],\n",
       "       [ True,  True,  True,  True]])"
      ]
     },
     "execution_count": 40,
     "metadata": {},
     "output_type": "execute_result"
    }
   ],
   "source": [
    "b = arr2 > 4\n",
    "b"
   ]
  },
  {
   "cell_type": "code",
   "execution_count": 41,
   "id": "6a8f51e4-4669-4fc4-a4dd-71579b0116ab",
   "metadata": {},
   "outputs": [
    {
     "data": {
      "text/plain": [
       "array([5., 6., 5., 6., 7., 8.])"
      ]
     },
     "execution_count": 41,
     "metadata": {},
     "output_type": "execute_result"
    }
   ],
   "source": [
    "arr2[b]"
   ]
  },
  {
   "cell_type": "code",
   "execution_count": 42,
   "id": "6fc6df8b-c9e3-4169-9243-56bc9b6eedc4",
   "metadata": {},
   "outputs": [
    {
     "data": {
      "text/plain": [
       "array([[ 1.,  2.,  3.,  4.],\n",
       "       [ 3., nan, inf,  6.],\n",
       "       [ 5.,  6.,  7.,  8.]])"
      ]
     },
     "execution_count": 42,
     "metadata": {},
     "output_type": "execute_result"
    }
   ],
   "source": [
    "arr2[1,1] = np.nan  # no es un número\n",
    "arr2[1,2] = np.inf  # infinito\n",
    "arr2"
   ]
  },
  {
   "cell_type": "code",
   "execution_count": 44,
   "id": "5186acc0-23c6-4cc9-9105-42ef7812c241",
   "metadata": {},
   "outputs": [],
   "source": [
    "valores_faltantes_bool = np.isnan(arr2) | np.isinf(arr2)"
   ]
  },
  {
   "cell_type": "code",
   "execution_count": 47,
   "id": "08326dcc-5edb-4ab8-81d4-186d7747eb1f",
   "metadata": {},
   "outputs": [
    {
     "data": {
      "text/plain": [
       "array([[False, False, False, False],\n",
       "       [False,  True,  True, False],\n",
       "       [False, False, False, False]])"
      ]
     },
     "execution_count": 47,
     "metadata": {},
     "output_type": "execute_result"
    }
   ],
   "source": [
    "valores_faltantes_bool"
   ]
  },
  {
   "cell_type": "code",
   "execution_count": 48,
   "id": "7fb87cd4-6ff9-4391-86f8-2912e9adba74",
   "metadata": {},
   "outputs": [
    {
     "data": {
      "text/plain": [
       "array([[ 1.,  2.,  3.,  4.],\n",
       "       [ 3., -1., -1.,  6.],\n",
       "       [ 5.,  6.,  7.,  8.]])"
      ]
     },
     "execution_count": 48,
     "metadata": {},
     "output_type": "execute_result"
    }
   ],
   "source": [
    "arr2[valores_faltantes_bool] = -1\n",
    "arr2"
   ]
  },
  {
   "cell_type": "code",
   "execution_count": 49,
   "id": "3d0e21a3-6d32-4b80-874c-1c141c0d9f8e",
   "metadata": {},
   "outputs": [
    {
     "name": "stdout",
     "output_type": "stream",
     "text": [
      "Hola mundo\n"
     ]
    }
   ],
   "source": [
    "print(\"Hola mundo\")"
   ]
  },
  {
   "cell_type": "code",
   "execution_count": 52,
   "id": "d3b59631-f7fc-4588-a898-06b9a6b709ca",
   "metadata": {},
   "outputs": [
    {
     "data": {
      "text/plain": [
       "array([[ 1.,  2.,  3.,  4.],\n",
       "       [ 3., -1., -1.,  6.],\n",
       "       [ 5.,  6.,  7.,  8.]])"
      ]
     },
     "execution_count": 52,
     "metadata": {},
     "output_type": "execute_result"
    }
   ],
   "source": [
    "arr2"
   ]
  },
  {
   "cell_type": "code",
   "execution_count": 53,
   "id": "21d4eafe-17b4-4928-a0fc-9be1f913a233",
   "metadata": {},
   "outputs": [
    {
     "name": "stdout",
     "output_type": "stream",
     "text": [
      "Media:  3.5833333333333335\n",
      "Valor máximo:  8.0\n",
      "Valor mínimo:  -1.0\n"
     ]
    }
   ],
   "source": [
    "print(\"Media: \", arr2.mean())\n",
    "print(\"Valor máximo: \", arr2.max())\n",
    "print(\"Valor mínimo: \", arr2.min())"
   ]
  },
  {
   "cell_type": "code",
   "execution_count": 54,
   "id": "016b1db8-b999-4b38-8ee6-944afa608e15",
   "metadata": {},
   "outputs": [
    {
     "data": {
      "text/plain": [
       "array([[ 1.,  2.,  3.,  4.],\n",
       "       [ 3., -1., -1.,  6.],\n",
       "       [ 5.,  6.,  7.,  8.]])"
      ]
     },
     "execution_count": 54,
     "metadata": {},
     "output_type": "execute_result"
    }
   ],
   "source": [
    "arr2"
   ]
  },
  {
   "cell_type": "code",
   "execution_count": 56,
   "id": "e8f5b4c8-2132-4815-ad03-1c7cd4ea80ae",
   "metadata": {},
   "outputs": [
    {
     "name": "stdout",
     "output_type": "stream",
     "text": [
      "Valores mínimos en columnas [ 1. -1. -1.  4.]\n"
     ]
    }
   ],
   "source": [
    "print(\"Valores mínimos en columnas\", np.amin(arr2, axis=0))"
   ]
  },
  {
   "cell_type": "code",
   "execution_count": 57,
   "id": "5c284b10-6926-402a-929f-19acc097f315",
   "metadata": {},
   "outputs": [
    {
     "name": "stdout",
     "output_type": "stream",
     "text": [
      "Valores mínimos en filas:  [ 1. -1.  5.]\n"
     ]
    }
   ],
   "source": [
    "print(\"Valores mínimos en filas: \", np.amin(arr2, axis=1))"
   ]
  },
  {
   "cell_type": "code",
   "execution_count": 59,
   "id": "0602213a-859f-4293-a228-9a6c9a994a3e",
   "metadata": {},
   "outputs": [
    {
     "data": {
      "text/plain": [
       "array([[ 1.,  2.,  3.,  4.],\n",
       "       [ 3., -1., -1.,  6.],\n",
       "       [ 5.,  6.,  7.,  8.]])"
      ]
     },
     "execution_count": 59,
     "metadata": {},
     "output_type": "execute_result"
    }
   ],
   "source": [
    "arr2"
   ]
  },
  {
   "cell_type": "code",
   "execution_count": 60,
   "id": "6382bea7-718e-4602-be9d-282d32201da8",
   "metadata": {},
   "outputs": [],
   "source": [
    "arr2_nuevo = arr2[:2,:2]  \n",
    "arr2_nuevo[:1, :1] = 100  # el 100 se va a reflejar también en el array original arr2"
   ]
  },
  {
   "cell_type": "code",
   "execution_count": 61,
   "id": "8db27dde-e45e-4843-a0ee-675780307b79",
   "metadata": {},
   "outputs": [
    {
     "data": {
      "text/plain": [
       "array([[100.,   2.,   3.,   4.],\n",
       "       [  3.,  -1.,  -1.,   6.],\n",
       "       [  5.,   6.,   7.,   8.]])"
      ]
     },
     "execution_count": 61,
     "metadata": {},
     "output_type": "execute_result"
    }
   ],
   "source": [
    "arr2"
   ]
  },
  {
   "cell_type": "code",
   "execution_count": 62,
   "id": "65b0df8b-cdcd-45a7-b0c9-35650b24ca83",
   "metadata": {},
   "outputs": [
    {
     "data": {
      "text/plain": [
       "array([[100.,   2.],\n",
       "       [  3.,  -1.]])"
      ]
     },
     "execution_count": 62,
     "metadata": {},
     "output_type": "execute_result"
    }
   ],
   "source": [
    "arr2_nuevo"
   ]
  },
  {
   "cell_type": "code",
   "execution_count": 64,
   "id": "f1fd5277-d94c-4b42-b13e-ec8607d26149",
   "metadata": {},
   "outputs": [
    {
     "data": {
      "text/plain": [
       "array([[100.,   2.,   3.,   4.],\n",
       "       [  3.,  -1.,  -1.,   6.],\n",
       "       [  5.,   6.,   7.,   8.]])"
      ]
     },
     "execution_count": 64,
     "metadata": {},
     "output_type": "execute_result"
    }
   ],
   "source": [
    "arr2_nuevo_2 = arr2[:2, :2].copy()\n",
    "arr2_nuevo_2[0, 0] = 102  # 102 no saldrá en arr2\n",
    "arr2"
   ]
  },
  {
   "cell_type": "code",
   "execution_count": 66,
   "id": "e3d69193-c1af-47ca-94fe-b539ae20b691",
   "metadata": {},
   "outputs": [
    {
     "data": {
      "text/plain": [
       "array([[102.,   2.],\n",
       "       [  3.,  -1.]])"
      ]
     },
     "execution_count": 66,
     "metadata": {},
     "output_type": "execute_result"
    }
   ],
   "source": [
    "arr2_nuevo_2"
   ]
  },
  {
   "cell_type": "code",
   "execution_count": 67,
   "id": "0deabcc4-59e2-4d17-8655-8de239f8aa00",
   "metadata": {},
   "outputs": [
    {
     "name": "stdout",
     "output_type": "stream",
     "text": [
      "[0 1 2 3 4]\n"
     ]
    }
   ],
   "source": [
    "print(np.arange(5))\n",
    "nuevo_arr = np.arange(10)"
   ]
  },
  {
   "cell_type": "code",
   "execution_count": 68,
   "id": "4d4da2c4-0de0-42ad-9d12-3f6e961db94f",
   "metadata": {},
   "outputs": [
    {
     "data": {
      "text/plain": [
       "numpy.ndarray"
      ]
     },
     "execution_count": 68,
     "metadata": {},
     "output_type": "execute_result"
    }
   ],
   "source": [
    "type(nuevo_arr)"
   ]
  },
  {
   "cell_type": "code",
   "execution_count": 69,
   "id": "8a837edf-c724-4e52-872a-4c2df6ff1eaf",
   "metadata": {},
   "outputs": [
    {
     "name": "stdout",
     "output_type": "stream",
     "text": [
      "[ 5  6  7  8  9 10 11 12 13 14 15 16 17 18 19 20 21 22 23 24 25 26 27 28\n",
      " 29 30 31 32 33 34 35 36 37 38 39 40 41 42 43 44 45 46 47 48 49 50 51 52\n",
      " 53 54 55 56 57 58 59 60 61 62 63 64 65 66 67 68 69 70 71 72 73 74 75 76\n",
      " 77 78 79 80 81 82 83 84 85 86 87 88 89 90 91 92 93 94 95 96 97 98 99]\n"
     ]
    }
   ],
   "source": [
    "print(np.arange(5, 100))"
   ]
  },
  {
   "cell_type": "code",
   "execution_count": 70,
   "id": "a188c76a-3b4b-4665-83ea-a47aa1c802c5",
   "metadata": {},
   "outputs": [
    {
     "name": "stdout",
     "output_type": "stream",
     "text": [
      "[ 0.   3.5  7.  10.5 14.  17.5 21.  24.5 28.  31.5 35.  38.5 42.  45.5\n",
      " 49.  52.5 56.  59.5 63.  66.5 70.  73.5 77.  80.5 84.  87.5 91.  94.5\n",
      " 98. ]\n"
     ]
    }
   ],
   "source": [
    "print(np.arange(0, 100, 3.5))  "
   ]
  },
  {
   "cell_type": "code",
   "execution_count": 71,
   "id": "eeb7ce6d-cb47-44f3-ada2-76fc660f43da",
   "metadata": {},
   "outputs": [
    {
     "name": "stdout",
     "output_type": "stream",
     "text": [
      "[10  9  8  7  6  5  4  3  2  1]\n"
     ]
    }
   ],
   "source": [
    "print(np.arange(10, 0, -1))"
   ]
  },
  {
   "cell_type": "code",
   "execution_count": 72,
   "id": "13722786-cb84-45f9-a359-682e7eb1c3e2",
   "metadata": {},
   "outputs": [
    {
     "data": {
      "text/plain": [
       "array([ 1,  3,  6,  8, 11, 13, 16, 19, 21, 24, 26, 29, 31, 34, 37, 39, 42,\n",
       "       44, 47, 50])"
      ]
     },
     "execution_count": 72,
     "metadata": {},
     "output_type": "execute_result"
    }
   ],
   "source": [
    "np.linspace(start=1, stop=50, num=20, dtype=int)"
   ]
  },
  {
   "cell_type": "code",
   "execution_count": 73,
   "id": "bf496aa2-5807-402e-9b69-496a888d993a",
   "metadata": {},
   "outputs": [
    {
     "data": {
      "text/plain": [
       "array([[0., 0.],\n",
       "       [0., 0.]])"
      ]
     },
     "execution_count": 73,
     "metadata": {},
     "output_type": "execute_result"
    }
   ],
   "source": [
    "np.zeros([2,2])"
   ]
  },
  {
   "cell_type": "code",
   "execution_count": 74,
   "id": "e8239604-3725-4989-ba25-a2dea86e39e1",
   "metadata": {},
   "outputs": [
    {
     "data": {
      "text/plain": [
       "array([[1., 1.],\n",
       "       [1., 1.]])"
      ]
     },
     "execution_count": 74,
     "metadata": {},
     "output_type": "execute_result"
    }
   ],
   "source": [
    "np.ones([2,2])"
   ]
  },
  {
   "cell_type": "code",
   "execution_count": 75,
   "id": "c5765de1-0cf2-48fa-8f1b-48dc885e0c86",
   "metadata": {},
   "outputs": [
    {
     "name": "stdout",
     "output_type": "stream",
     "text": [
      "Tile:    [1 2 3 1 2 3]\n",
      "Repeat:  [1 1 1 1 2 2 2 2 3 3 3 3]\n"
     ]
    }
   ],
   "source": [
    "a = [1,2,3] \n",
    "\n",
    "print('Tile:   ', np.tile(a, 2))\n",
    "\n",
    "print('Repeat: ', np.repeat(a, 4))"
   ]
  },
  {
   "cell_type": "code",
   "execution_count": 76,
   "id": "845e2323-954e-48e5-a1c6-e31808821a44",
   "metadata": {},
   "outputs": [
    {
     "data": {
      "text/plain": [
       "50"
      ]
     },
     "execution_count": 76,
     "metadata": {},
     "output_type": "execute_result"
    }
   ],
   "source": [
    "import random\n",
    "random.randint(0,100)"
   ]
  },
  {
   "cell_type": "code",
   "execution_count": 77,
   "id": "d0c6c244-1ab5-454f-82bc-0b7058eec053",
   "metadata": {},
   "outputs": [
    {
     "name": "stdout",
     "output_type": "stream",
     "text": [
      "Números aleatorios entre [0,1) de tamaño  2,2\n",
      "[[0.20820117 0.32653915 0.39231373 0.59178463 0.16108913]\n",
      " [0.05311428 0.30109193 0.36357666 0.96371311 0.79767216]\n",
      " [0.09470395 0.43858488 0.28879814 0.57011343 0.80766551]]\n"
     ]
    }
   ],
   "source": [
    "print(\"Números aleatorios entre [0,1) de tamaño  2,2\")\n",
    "print(np.random.rand(3,5))"
   ]
  },
  {
   "cell_type": "code",
   "execution_count": 78,
   "id": "5bda30f7-52b5-46cc-a5e4-2b4e0d9ef3ad",
   "metadata": {},
   "outputs": [
    {
     "name": "stdout",
     "output_type": "stream",
     "text": [
      "Números aleatorios de una distribución normal con media=0 y varianza=1 de tamaño 2,2\n",
      "[[ 0.57647566 -0.90185856]\n",
      " [ 0.09564432  0.2392077 ]]\n"
     ]
    }
   ],
   "source": [
    "print(\"Números aleatorios de una distribución normal con media=0 y varianza=1 de tamaño 2,2\")\n",
    "print(np.random.randn(2,2))"
   ]
  },
  {
   "cell_type": "code",
   "execution_count": 79,
   "id": "ce8a7cec-4d13-4fdc-9991-cc032f0dcf59",
   "metadata": {},
   "outputs": [
    {
     "name": "stdout",
     "output_type": "stream",
     "text": [
      "Enteros aleatorios entre [0,10) de tamaño 2,2\n",
      "[[91 91 73 93 78]\n",
      " [27 19 19 36 95]\n",
      " [22 34 60 13 29]\n",
      " [51 90 94 48 38]\n",
      " [47 67 18 60 70]]\n"
     ]
    }
   ],
   "source": [
    "print(\"Enteros aleatorios entre [0,10) de tamaño 2,2\")\n",
    "print(np.random.randint(0, 100, size=[5,5]))"
   ]
  },
  {
   "cell_type": "code",
   "execution_count": 80,
   "id": "3a4b9d0f-9a3f-46dd-aaec-99889fa4188f",
   "metadata": {},
   "outputs": [
    {
     "name": "stdout",
     "output_type": "stream",
     "text": [
      "Genera un número aleatorio entre [0,1)\n",
      "0.2785141804095935\n"
     ]
    }
   ],
   "source": [
    "print(\"Genera un número aleatorio entre [0,1)\")\n",
    "print(np.random.random())"
   ]
  },
  {
   "cell_type": "code",
   "execution_count": 81,
   "id": "1d5026fd-0cdf-44b7-861a-6a22c71cdada",
   "metadata": {},
   "outputs": [
    {
     "name": "stdout",
     "output_type": "stream",
     "text": [
      "Elige 10 elementos de una lista (los resultados son equiprobables)\n",
      "['Cara' 'Sol' 'Cara' 'Sol' 'Sol' 'Sol' 'Cara' 'Sol' 'Sol' 'Sol']\n"
     ]
    }
   ],
   "source": [
    "print(\"Elige 10 elementos de una lista (los resultados son equiprobables)\")\n",
    "print(np.random.choice(['Cara', 'Sol'], size=10))  "
   ]
  },
  {
   "cell_type": "code",
   "execution_count": 82,
   "id": "b531f4eb-a02e-451a-9f39-c1de898124b3",
   "metadata": {},
   "outputs": [
    {
     "name": "stdout",
     "output_type": "stream",
     "text": [
      "Elige 10 elementos de una lista. Cada uno con una probablidad p\n",
      "['Cara' 'Sol' 'Sol' 'Sol' 'Sol' 'Sol' 'Sol' 'Sol' 'Sol' 'Sol']\n"
     ]
    }
   ],
   "source": [
    "print(\"Elige 10 elementos de una lista. Cada uno con una probablidad p\")\n",
    "print(np.random.choice(['Cara', 'Sol'], size=10, p=[0.2, .8]))"
   ]
  },
  {
   "cell_type": "code",
   "execution_count": 83,
   "id": "8b5ff259-425d-4a46-a97c-fce07ef9d85d",
   "metadata": {},
   "outputs": [
    {
     "name": "stdout",
     "output_type": "stream",
     "text": [
      "[[0.54340494 0.27836939]\n",
      " [0.42451759 0.84477613]]\n"
     ]
    }
   ],
   "source": [
    "np.random.seed(100)\n",
    "print(np.random.rand(2,2))"
   ]
  },
  {
   "cell_type": "code",
   "execution_count": 84,
   "id": "551f1e62-afb6-4c7f-8385-e3956ea52e34",
   "metadata": {},
   "outputs": [
    {
     "data": {
      "text/plain": [
       "array([5, 8, 9, 5, 0, 0, 1, 7, 6, 9, 2, 4, 5, 2, 4, 2, 4, 7, 7, 9, 1, 7,\n",
       "       0, 6, 9, 9, 7, 6, 9, 1, 0, 1, 8, 8, 3, 9, 8, 7, 3, 6, 5, 1, 9, 3,\n",
       "       4, 8, 1, 4, 0, 3, 9, 2, 0, 4, 9, 2, 7, 7, 9, 8, 6, 9, 3, 7, 7, 4,\n",
       "       5, 9, 3, 6, 8, 0, 2, 7, 7, 9, 7, 3, 0, 8, 7, 7, 1, 1, 3, 0, 8, 6,\n",
       "       4, 5, 6, 2, 5, 7, 8, 4, 4, 7, 7, 4])"
      ]
     },
     "execution_count": 84,
     "metadata": {},
     "output_type": "execute_result"
    }
   ],
   "source": [
    "np.random.seed(1)\n",
    "arr_rand = np.random.randint(0, 10, size=100)\n",
    "arr_rand"
   ]
  },
  {
   "cell_type": "code",
   "execution_count": 85,
   "id": "ba71a0d3-3b2d-409b-ae84-63d5d07a8509",
   "metadata": {},
   "outputs": [
    {
     "name": "stdout",
     "output_type": "stream",
     "text": [
      "Elementos únicos:  [0 1 2 3 4 5 6 7 8 9]\n",
      "Frecuencias      : [ 9  8  7  8 11  7  8 18 10 14]\n"
     ]
    }
   ],
   "source": [
    "vals_unicos, frecuencias = np.unique(arr_rand, return_counts=True)\n",
    "print(\"Elementos únicos: \", vals_unicos)\n",
    "print(\"Frecuencias      :\", frecuencias)"
   ]
  },
  {
   "cell_type": "code",
   "execution_count": 86,
   "id": "781ec4d3-aa59-4550-b0f9-c1f584a68784",
   "metadata": {},
   "outputs": [
    {
     "data": {
      "text/plain": [
       "4294967296"
      ]
     },
     "execution_count": 86,
     "metadata": {},
     "output_type": "execute_result"
    }
   ],
   "source": [
    "2**32"
   ]
  }
 ],
 "metadata": {
  "kernelspec": {
   "display_name": "Python 3 (ipykernel)",
   "language": "python",
   "name": "python3"
  },
  "language_info": {
   "codemirror_mode": {
    "name": "ipython",
    "version": 3
   },
   "file_extension": ".py",
   "mimetype": "text/x-python",
   "name": "python",
   "nbconvert_exporter": "python",
   "pygments_lexer": "ipython3",
   "version": "3.12.3"
  }
 },
 "nbformat": 4,
 "nbformat_minor": 5
}
